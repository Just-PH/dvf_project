{
 "cells": [
  {
   "cell_type": "code",
   "execution_count": 1,
   "metadata": {},
   "outputs": [
    {
     "name": "stderr",
     "output_type": "stream",
     "text": [
      "/home/phdel/.pyenv/versions/3.10.6/envs/upfund_dvf/lib/python3.10/site-packages/pygeos/io.py:89: UserWarning: The shapely GEOS version (3.11.4-CAPI-1.17.4) is incompatible with the PyGEOS GEOS version (3.10.4-CAPI-1.16.2). Conversions between both will be slow\n",
      "  warnings.warn(\n"
     ]
    },
    {
     "name": "stdout",
     "output_type": "stream",
     "text": [
      "Empty GeoDataFrame\n",
      "Columns: [geometry, tags]\n",
      "Index: []\n"
     ]
    }
   ],
   "source": [
    "import osmium\n",
    "import pygeos\n",
    "import geopandas as gpd\n",
    "from shapely.geometry import Point\n",
    "\n",
    "# Étape 1 : Construire un DataFrame GeoPandas pour tous les POIs\n",
    "class POIHandler(osmium.SimpleHandler):\n",
    "    def __init__(self):\n",
    "        super().__init__()\n",
    "        self.data = []\n",
    "\n",
    "    def node(self, n):\n",
    "        if \"amenity\" in n.tags:\n",
    "            self.data.append({\"geometry\": Point(n.location.lon, n.location.lat), \"tags\": dict(n.tags)})\n",
    "\n",
    "def load_pois_to_geodataframe(pbf_file):\n",
    "    handler = POIHandler()\n",
    "    handler.apply_file(pbf_file)\n",
    "    return gpd.GeoDataFrame(handler.data, geometry=\"geometry\", crs=\"EPSG:4326\")\n",
    "\n",
    "pois_gdf = load_pois_to_geodataframe(\"data_pop_density/france-latest.osm.pbf\")\n",
    "\n",
    "# Étape 2 : Convertir en index spatial\n",
    "pois_gdf = pois_gdf.to_crs(\"EPSG:3857\")  # Projeter en mètres\n",
    "poi_index = pygeos.STRtree(pygeos.from_shapely(pois_gdf.geometry))\n",
    "\n",
    "# Étape 3 : Interroger les POIs proches avec des buffers\n",
    "def fetch_pois_nearby(lat, lon, radius=500):\n",
    "    point = pygeos.points(lon, lat)\n",
    "    buffer = pygeos.buffer(point, radius)\n",
    "    matches = poi_index.query(buffer)\n",
    "    return pois_gdf.iloc[matches]\n",
    "\n",
    "# Exemple pour un point spécifique\n",
    "pois_nearby = fetch_pois_nearby(48.8566, 2.3522, radius=500)\n",
    "print(pois_nearby)\n"
   ]
  },
  {
   "cell_type": "code",
   "execution_count": null,
   "metadata": {},
   "outputs": [],
   "source": []
  }
 ],
 "metadata": {
  "kernelspec": {
   "display_name": "upfund_dvf",
   "language": "python",
   "name": "python3"
  },
  "language_info": {
   "codemirror_mode": {
    "name": "ipython",
    "version": 3
   },
   "file_extension": ".py",
   "mimetype": "text/x-python",
   "name": "python",
   "nbconvert_exporter": "python",
   "pygments_lexer": "ipython3",
   "version": "3.10.6"
  }
 },
 "nbformat": 4,
 "nbformat_minor": 2
}
